{
 "cells": [
  {
   "cell_type": "markdown",
   "metadata": {},
   "source": [
    "# Project 0 -- Basics of an Ideal Gas\n",
    "\n",
    "\n",
    "`jupyter` notebooks allow you to interleave text, code, and results into one document. The origin of the name is Jupiter + python, with the inspiration coming from Galileo's notebooks showing the movement of the Galilean satellites of Jupiter. \n",
    "\n",
    "Each of these gray boxes is a cell. Cells can be *text* (like this one) or *code* (like the next one). This cell is a Markdown cell, which you'll see denoted along the top toolbar. You can set the type of each cell. Double click on this cell, and you can see how I formatted this text. Hold down <kbd>shift</kbd>+<kbd>enter</kbd> to run this cell and return it to the formatted text.\n",
    "\n",
    "After you complete the notebook, to turn it in: 1) Kernel > Restart and run all (this will evaluate all cells in order, making sure you haven't written over any important definitions). 2) Make sure the Inputs are labeled consecutively starting from 1, and that your outputs still look right. 3) File > Download as > PDF via Latex.\n",
    "\n",
    "Code cells have to be run in order to run the code contained within them. Click on the next cell and hold down <kbd>shift</kbd>+<kbd>enter</kbd> to run the cell.\n",
    "\n",
    "For this week's project, I've started a notebook for you with some code sketches already filled in. Please make sure you can run the code snippets that are already here, and then expand on it to complete the rest of the project. Adapted from Zach Berta-Thompson.\n",
    "\n",
    "After you complete the notebook, to turn it in: 1) Kernel > Restart and run all (this will evaluate all cells in order, making sure you haven't written over any important definitions). 2) Make sure the Inputs are labeled consecutively starting from 1, and that your outputs still look right. 3) File > Download as > PDF via Latex."
   ]
  },
  {
   "cell_type": "markdown",
   "metadata": {},
   "source": [
    "## Imports\n",
    "\n",
    "Imports allow you to access packages of programs that others (or that you!) have created. Note that the hashtag symbol ``#`` indicates that a line is a comment, not code."
   ]
  },
  {
   "cell_type": "code",
   "execution_count": null,
   "metadata": {},
   "outputs": [],
   "source": [
    "# gain access to numerical tools\n",
    "import numpy as np\n",
    "\n",
    "# gain access to plotting tools \n",
    "import matplotlib.pyplot as plt "
   ]
  },
  {
   "cell_type": "code",
   "execution_count": null,
   "metadata": {},
   "outputs": [],
   "source": [
    "# these are some settings I like\n",
    "# make plots show up in the notebook\n",
    "%matplotlib inline\n",
    "# set up bigger default plots\n",
    "plt.matplotlib.rcParams['figure.figsize'] = (10,7)\n",
    "plt.matplotlib.rcParams['font.size'] = 12"
   ]
  },
  {
   "cell_type": "markdown",
   "metadata": {},
   "source": [
    "## Using units\n",
    "\n",
    "Astropy is a package designed by and for astronomers. We'll use two modules from astropy, which we'll import directly. Here, we'll be using the astropy \"units\" module to keep track of units for us. This is extremely convenient because it allows us to convert between units, and keep track of our units, automatically. From personal experience, there can be huge problems if you get this wrong. As a warning, you do need to make sure you have the units you want before using the value somewhere that you aren't keeping track of units. "
   ]
  },
  {
   "cell_type": "code",
   "execution_count": null,
   "metadata": {},
   "outputs": [],
   "source": [
    "# gain access to astropy units\n",
    "from astropy import units, constants"
   ]
  },
  {
   "cell_type": "code",
   "execution_count": null,
   "metadata": {},
   "outputs": [],
   "source": [
    "myvelocity = 1e-5*constants.c  # use the speed of light stored in astropy.constants\n",
    "print(myvelocity)\n",
    "print(myvelocity.to('cm/s'))   # change the units to cm/s\n",
    "\n",
    "mydistance = myvelocity*(5*units.min)\n",
    "print(mydistance)# multiply by 5 min\n",
    "# hmmm, units of \"min/s\" is kind of silly\n",
    "# either of these simplifies the units for you\n",
    "print(mydistance.decompose(), \"or\", mydistance.to('m')) "
   ]
  },
  {
   "cell_type": "markdown",
   "metadata": {},
   "source": [
    "## Q1: an array of random numbers\n",
    "\n",
    "Create an array of random numbers for velocities and distances, using one of the options in np.random (e.g. a Gaussian, using \"normal\" or a Rayleigh distribution). I've included an example creating an array of random integers between 0 and 10, appending units on the end. Print out your array."
   ]
  },
  {
   "cell_type": "code",
   "execution_count": null,
   "metadata": {},
   "outputs": [],
   "source": [
    "myvelocities = np.random.randint(low=0,high=10,size=20)*units.m/units.s\n",
    "mydistances = np.random.randint(low=0,high=10,size=20)*units.m\n",
    "print(myvelocities)"
   ]
  },
  {
   "cell_type": "code",
   "execution_count": null,
   "metadata": {},
   "outputs": [],
   "source": [
    "# plot the data\n",
    "plt.scatter(myvelocities, mydistances)\n",
    "\n",
    "# extract the units so you can use them in your axes labels\n",
    "xunit_string = mydistances.unit.to_string('latex_inline')\n",
    "yunit_string = myvelocities.decompose().unit.to_string('latex_inline')\n",
    "\n",
    "# make the plot\n",
    "plt.ylabel('Velocity ({})'.format(yunit_string))\n",
    "plt.xlabel('Distance ({})'.format(xunit_string))"
   ]
  },
  {
   "cell_type": "markdown",
   "metadata": {},
   "source": [
    "## Q2: An Ideal Gas\n",
    "\n",
    "Earth's atmospheric pressure at sea level is $1.01 \\times 10^5~Pa$ (where $1~Pa = 1~N/m^2 = 10^{-5}~bar$). At room temperature ($293 K$) and this pressure, how much volume would be filled by a little cloud of $10^6~ N_2$ molecules?"
   ]
  },
  {
   "cell_type": "code",
   "execution_count": null,
   "metadata": {},
   "outputs": [],
   "source": [
    "# For the sake of getting use to Python and jupyter notebooks,\n",
    "# please use this code cell to perform your calculation.\n",
    "# (Be sure to indicate the units associated with your answer).\n",
    "\n",
    "N = int(1e6)                  # total number of molecules\n",
    "pressure = 1.01e5*units.Pa    # in units of Pa\n",
    "temperature = 293*units.K     # in units of K\n",
    "k_B = constants.k_B           # Boltzmann's constant\n",
    "\n",
    "# ..."
   ]
  },
  {
   "cell_type": "markdown",
   "metadata": {},
   "source": [
    "### Q3: Speeds in Gases \n",
    "\n",
    "Let's play around a little with these $10^6~N_2$ atoms, and the speeds at which they're moving. The Maxwell-Boltzmann distribution gives the probability for a particle in an ideal gas to have the $x$-component of its *velocity* fall between $v_x$ and $v_x + dv_x$ is written as \n",
    "\n",
    "$$ f(v_x)dv_x = \\left(\\frac{m}{2\\pi k_B T}\\right)^{1/2}\\exp \\left(\\frac{-mv_x^2}{2 k_B T} \\right)dv_x $$\n",
    "\n",
    "where $m$ is the mass of the particle, $T$ is the temperature of the gas, and $k_B = 1.38 \\times 10^{-23}~J~K^{-1}$ is Boltzmann's constant. If we define the quantity $\\sigma = \\sqrt{k_B T/m}$, then the above expression can be rewritten as \n",
    "\n",
    "$$ f(v_x)dv_x = \\frac{1}{\\sqrt{2\\pi} \\sigma}\\exp \\left(\\frac{-v_x^2}{2 \\sigma^2} \\right)dv_x $$\n",
    "\n",
    "which is precisely the equation for a Gaussian or \"normal\" probability distribution, centered at $v_x = 0$ and with a width of $\\sigma$. \n",
    "\n",
    "Let's use Python to calculate $\\sigma$ for simulate the $x$-component of the velocities for $10^6$ imaginary $N_2$ molecules, and then we'll create a `numpy` array that contains $10^6$ random numbers drawn from this probability distribution. "
   ]
  },
  {
   "cell_type": "code",
   "execution_count": null,
   "metadata": {},
   "outputs": [],
   "source": [
    "# define our values\n",
    "temperature = 293*units.K         # the temperature, in units of K\n",
    "k_B = constants.k_B               # Boltzmann's constant, in units of J/K\n",
    "mass = 28*units.Dalton            # the mass of an N2 molecule, in amu (or Daltons)\n",
    "\n",
    "# calculate sigma from these (check on paper that the units make sense!)\n",
    "sigma = np.sqrt( (k_B*temperature/mass).decompose() )   # in units of m/s\n",
    "\n",
    "# draw a 1e5 random numbers from a Gaussian (\"normal\") distribution, \n",
    "# centered at vx=0 and with a width of sigma\n",
    "# note these numpy functions can't use numbers with units\n",
    "vx = np.random.normal(0,sigma.value,N)*sigma.unit #strip sigma of its units, but make sure vx keeps the right units"
   ]
  },
  {
   "cell_type": "markdown",
   "metadata": {},
   "source": [
    "Now, let's see how frequently particular values of $v_x$ occur, by plotting a histogram. We will use `plt.hist` (https://matplotlib.org/3.1.1/api/_as_gen/matplotlib.pyplot.hist.html) to make the histogram. Then, plot your histogram and add axis labels (e.g. https://matplotlib.org/3.1.1/api/_as_gen/matplotlib.pyplot.xlabel.html). I made the choice to use the `density=True` option in `plt.hist` means this distribution will be plotted as a probability density (which is a function that integrates to 1)."
   ]
  },
  {
   "cell_type": "code",
   "execution_count": null,
   "metadata": {},
   "outputs": [],
   "source": [
    "# let's plot a histogram of those values\n",
    "plt.hist(vx.value, bins=50, density=True)\n",
    "\n",
    "# always be sure to label your axes\n",
    "# I know the units are super cumbersome but I promise it will save you at some time in your career\n",
    "xunit_string = vx.decompose().unit.to_string('latex_inline')\n",
    "plt.xlabel('$x$-component of Velocity ({})'.format(yunit_string))\n",
    "plt.ylabel('Probability Density')\n",
    "plt.title('Distribution of Velocities in the $x$ Direction')\n",
    "\n",
    "\n",
    "# now, let's overplot the analytic shape of the probability distribution\n",
    "#  first, we create a fine grid of vx values\n",
    "vx_axis = np.linspace(-1500, 1500, 1000)*units.m/units.s\n",
    "#  then, we use the above equation to calculate the probability\n",
    "probability = 1/np.sqrt(2*np.pi)/sigma*np.exp(-vx_axis**2/2/sigma**2)\n",
    "#  finally, we plot these x and y values as an orange line\n",
    "plt.plot(vx_axis, probability, linewidth=5, color='darkorange', alpha=0.5)\n",
    "\n",
    "# we can plot the expected average value for vx\n",
    "plt.axvline(0, color='gray', lw=4, label='expected average velocity')\n",
    "\n",
    "# we can plot the actual average value of vx, measured from our simulation\n",
    "vx_average = np.mean(vx.value)\n",
    "plt.axvline(vx_average, linestyle='--', color='black', label='actual average velocity')\n",
    "\n",
    "# add a legend, including the labels that were assigned to each line\n",
    "plt.legend(frameon=False);"
   ]
  },
  {
   "cell_type": "markdown",
   "metadata": {},
   "source": [
    "Hey, cool! The histogram of random numbers that we created with Python follows the shape of the distribution we draw them from. Maybe that's not so surprising, but it's a useful test! Now, let's expand this to three dimensions of motion, and calculate a few more quantities.\n"
   ]
  },
  {
   "cell_type": "markdown",
   "metadata": {},
   "source": [
    "\n",
    "+ Create two more arrays for $v_y$ and $v_z$ in the same way you did for $v_x$, assuming the motion in the three directions is totally independent.\n"
   ]
  },
  {
   "cell_type": "code",
   "execution_count": null,
   "metadata": {},
   "outputs": [],
   "source": []
  },
  {
   "cell_type": "markdown",
   "metadata": {},
   "source": [
    "+ Plot a histogram of $s = \\sqrt{v^2}$, where $s$ indicates the speed of the particles (the magnitude of their 3D velocity vectors). \n",
    "\n",
    "+ Indicate with vertical lines on your plot the gravitational escape speed of the planet Earth (11.2 km/s) and the approximate escape speed of the comet 67P/Churyumov–Gerasimenko (1 m/s). \n"
   ]
  },
  {
   "cell_type": "code",
   "execution_count": null,
   "metadata": {},
   "outputs": [],
   "source": []
  },
  {
   "cell_type": "markdown",
   "metadata": {},
   "source": [
    "+ Briefly discuss the implications of the particle speeds and escape speeds for the long-term persistence of an atmosphere on these two bodies."
   ]
  },
  {
   "cell_type": "markdown",
   "metadata": {},
   "source": [
    "<font color='seagreen'>\n",
    "\n",
    "Your brief discussion (double click to edit):"
   ]
  }
 ],
 "metadata": {
  "anaconda-cloud": {},
  "kernelspec": {
   "display_name": "Python 3 (ipykernel)",
   "language": "python",
   "name": "python3"
  },
  "language_info": {
   "codemirror_mode": {
    "name": "ipython",
    "version": 3
   },
   "file_extension": ".py",
   "mimetype": "text/x-python",
   "name": "python",
   "nbconvert_exporter": "python",
   "pygments_lexer": "ipython3",
   "version": "3.8.5"
  }
 },
 "nbformat": 4,
 "nbformat_minor": 2
}
